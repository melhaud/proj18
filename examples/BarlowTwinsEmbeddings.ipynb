{
 "cells": [
  {
   "cell_type": "markdown",
   "metadata": {
    "id": "6bbIrY_Sco7h"
   },
   "source": [
    "# Example: Train Barlow Twins on CIFAR10\n",
    "## Anomaly detection by point cloud distance inspecting"
   ]
  },
  {
   "cell_type": "code",
   "execution_count": 1,
   "metadata": {},
   "outputs": [
    {
     "name": "stdout",
     "output_type": "stream",
     "text": [
      "Tue Mar 22 23:55:38 2022       \r\n",
      "+-----------------------------------------------------------------------------+\r\n",
      "| NVIDIA-SMI 460.73.01    Driver Version: 460.73.01    CUDA Version: 11.2     |\r\n",
      "|-------------------------------+----------------------+----------------------+\r\n",
      "| GPU  Name        Persistence-M| Bus-Id        Disp.A | Volatile Uncorr. ECC |\r\n",
      "| Fan  Temp  Perf  Pwr:Usage/Cap|         Memory-Usage | GPU-Util  Compute M. |\r\n",
      "|                               |                      |               MIG M. |\r\n",
      "|===============================+======================+======================|\r\n",
      "|   0  Tesla M60           Off  | 00000000:3D:00.0 Off |                  Off |\r\n",
      "| N/A   29C    P0    37W / 150W |    879MiB /  8129MiB |      0%      Default |\r\n",
      "|                               |                      |                  N/A |\r\n",
      "+-------------------------------+----------------------+----------------------+\r\n",
      "                                                                               \r\n",
      "+-----------------------------------------------------------------------------+\r\n",
      "| Processes:                                                                  |\r\n",
      "|  GPU   GI   CI        PID   Type   Process name                  GPU Memory |\r\n",
      "|        ID   ID                                                   Usage      |\r\n",
      "|=============================================================================|\r\n",
      "+-----------------------------------------------------------------------------+\r\n"
     ]
    }
   ],
   "source": [
    "!nvidia-smi"
   ]
  },
  {
   "cell_type": "markdown",
   "metadata": {},
   "source": [
    "## Imports"
   ]
  },
  {
   "cell_type": "code",
   "execution_count": 2,
   "metadata": {
    "execution": {
     "iopub.execute_input": "2022-03-18T21:24:01.942438Z",
     "iopub.status.busy": "2022-03-18T21:24:01.941497Z",
     "iopub.status.idle": "2022-03-18T21:24:05.303661Z",
     "shell.execute_reply": "2022-03-18T21:24:05.302849Z",
     "shell.execute_reply.started": "2022-03-18T21:24:01.942385Z"
    },
    "id": "pBx2BYVIcjAW"
   },
   "outputs": [],
   "source": [
    "import matplotlib.pyplot as plt\n",
    "import numpy as np\n",
    "\n",
    "import torch\n",
    "import torchvision\n",
    "import torch.nn as nn\n",
    "import pytorch_lightning as pl\n",
    "\n",
    "import lightly\n",
    "import lightly.data as data\n",
    "\n",
    "import pytorch_lightning as pl\n",
    "from torch.utils.data import Subset\n",
    "from lightly.data import LightlyDataset\n",
    "from lightly.data import ImageCollateFunction"
   ]
  },
  {
   "cell_type": "markdown",
   "metadata": {
    "id": "vqJKmY4thSTf"
   },
   "source": [
    "## Variables"
   ]
  },
  {
   "cell_type": "code",
   "execution_count": 3,
   "metadata": {
    "execution": {
     "iopub.execute_input": "2022-03-18T21:20:24.278195Z",
     "iopub.status.busy": "2022-03-18T21:20:24.277658Z",
     "iopub.status.idle": "2022-03-18T21:20:24.282911Z",
     "shell.execute_reply": "2022-03-18T21:20:24.281051Z",
     "shell.execute_reply.started": "2022-03-18T21:20:24.278156Z"
    },
    "id": "hwrm_VUehUxb"
   },
   "outputs": [
    {
     "data": {
      "text/plain": [
       "<torch._C.Generator at 0x151674987588>"
      ]
     },
     "execution_count": 3,
     "metadata": {},
     "output_type": "execute_result"
    }
   ],
   "source": [
    "BATCH_SIZE = 128\n",
    "N_EPOCHES = 100\n",
    "torch.manual_seed(1)\n",
    "data_path = \"../data/cifar10\""
   ]
  },
  {
   "cell_type": "markdown",
   "metadata": {
    "id": "4qKhMdFqf0i7"
   },
   "source": [
    "# 1. BarlowTwins model"
   ]
  },
  {
   "cell_type": "code",
   "execution_count": 4,
   "metadata": {
    "execution": {
     "iopub.execute_input": "2022-03-18T21:24:19.800674Z",
     "iopub.status.busy": "2022-03-18T21:24:19.799935Z",
     "iopub.status.idle": "2022-03-18T21:24:19.819844Z",
     "shell.execute_reply": "2022-03-18T21:24:19.819157Z",
     "shell.execute_reply.started": "2022-03-18T21:24:19.800634Z"
    },
    "id": "SWq2UidMLXwF"
   },
   "outputs": [],
   "source": [
    "# import our own modules\n",
    "import sys\n",
    "sys.path.append(\"../src\")\n",
    "from my_resnet import resnet20\n",
    "from utils import get_classes, custom_collate_fn\n",
    "from barlow_twins_model import BarlowTwins"
   ]
  },
  {
   "cell_type": "code",
   "execution_count": 5,
   "metadata": {
    "execution": {
     "iopub.execute_input": "2022-03-18T23:07:29.572264Z",
     "iopub.status.busy": "2022-03-18T23:07:29.572013Z",
     "iopub.status.idle": "2022-03-18T23:07:53.695592Z",
     "shell.execute_reply": "2022-03-18T23:07:53.694817Z",
     "shell.execute_reply.started": "2022-03-18T23:07:29.572227Z"
    },
    "id": "hCQdmVYLLXwH"
   },
   "outputs": [
    {
     "data": {
      "text/plain": [
       "BarlowTwins(\n",
       "  (backbone): Sequential(\n",
       "    (0): Conv2d(3, 16, kernel_size=(3, 3), stride=(1, 1), padding=(1, 1), bias=False)\n",
       "    (1): BatchNorm2d(16, eps=1e-05, momentum=0.1, affine=True, track_running_stats=True)\n",
       "    (2): ReLU(inplace=True)\n",
       "    (3): Sequential(\n",
       "      (0): BasicBlock(\n",
       "        (conv1): Conv2d(16, 16, kernel_size=(3, 3), stride=(1, 1), padding=(1, 1), bias=False)\n",
       "        (bn1): BatchNorm2d(16, eps=1e-05, momentum=0.1, affine=True, track_running_stats=True)\n",
       "        (relu): ReLU(inplace=True)\n",
       "        (conv2): Conv2d(16, 16, kernel_size=(3, 3), stride=(1, 1), padding=(1, 1), bias=False)\n",
       "        (bn2): BatchNorm2d(16, eps=1e-05, momentum=0.1, affine=True, track_running_stats=True)\n",
       "      )\n",
       "      (1): BasicBlock(\n",
       "        (conv1): Conv2d(16, 16, kernel_size=(3, 3), stride=(1, 1), padding=(1, 1), bias=False)\n",
       "        (bn1): BatchNorm2d(16, eps=1e-05, momentum=0.1, affine=True, track_running_stats=True)\n",
       "        (relu): ReLU(inplace=True)\n",
       "        (conv2): Conv2d(16, 16, kernel_size=(3, 3), stride=(1, 1), padding=(1, 1), bias=False)\n",
       "        (bn2): BatchNorm2d(16, eps=1e-05, momentum=0.1, affine=True, track_running_stats=True)\n",
       "      )\n",
       "      (2): BasicBlock(\n",
       "        (conv1): Conv2d(16, 16, kernel_size=(3, 3), stride=(1, 1), padding=(1, 1), bias=False)\n",
       "        (bn1): BatchNorm2d(16, eps=1e-05, momentum=0.1, affine=True, track_running_stats=True)\n",
       "        (relu): ReLU(inplace=True)\n",
       "        (conv2): Conv2d(16, 16, kernel_size=(3, 3), stride=(1, 1), padding=(1, 1), bias=False)\n",
       "        (bn2): BatchNorm2d(16, eps=1e-05, momentum=0.1, affine=True, track_running_stats=True)\n",
       "      )\n",
       "    )\n",
       "    (4): Sequential(\n",
       "      (0): BasicBlock(\n",
       "        (conv1): Conv2d(16, 32, kernel_size=(3, 3), stride=(2, 2), padding=(1, 1), bias=False)\n",
       "        (bn1): BatchNorm2d(32, eps=1e-05, momentum=0.1, affine=True, track_running_stats=True)\n",
       "        (relu): ReLU(inplace=True)\n",
       "        (conv2): Conv2d(32, 32, kernel_size=(3, 3), stride=(1, 1), padding=(1, 1), bias=False)\n",
       "        (bn2): BatchNorm2d(32, eps=1e-05, momentum=0.1, affine=True, track_running_stats=True)\n",
       "        (downsample): Padding(16, 32, stride=(2, 2))\n",
       "      )\n",
       "      (1): BasicBlock(\n",
       "        (conv1): Conv2d(32, 32, kernel_size=(3, 3), stride=(1, 1), padding=(1, 1), bias=False)\n",
       "        (bn1): BatchNorm2d(32, eps=1e-05, momentum=0.1, affine=True, track_running_stats=True)\n",
       "        (relu): ReLU(inplace=True)\n",
       "        (conv2): Conv2d(32, 32, kernel_size=(3, 3), stride=(1, 1), padding=(1, 1), bias=False)\n",
       "        (bn2): BatchNorm2d(32, eps=1e-05, momentum=0.1, affine=True, track_running_stats=True)\n",
       "      )\n",
       "      (2): BasicBlock(\n",
       "        (conv1): Conv2d(32, 32, kernel_size=(3, 3), stride=(1, 1), padding=(1, 1), bias=False)\n",
       "        (bn1): BatchNorm2d(32, eps=1e-05, momentum=0.1, affine=True, track_running_stats=True)\n",
       "        (relu): ReLU(inplace=True)\n",
       "        (conv2): Conv2d(32, 32, kernel_size=(3, 3), stride=(1, 1), padding=(1, 1), bias=False)\n",
       "        (bn2): BatchNorm2d(32, eps=1e-05, momentum=0.1, affine=True, track_running_stats=True)\n",
       "      )\n",
       "    )\n",
       "    (5): Sequential(\n",
       "      (0): BasicBlock(\n",
       "        (conv1): Conv2d(32, 64, kernel_size=(3, 3), stride=(2, 2), padding=(1, 1), bias=False)\n",
       "        (bn1): BatchNorm2d(64, eps=1e-05, momentum=0.1, affine=True, track_running_stats=True)\n",
       "        (relu): ReLU(inplace=True)\n",
       "        (conv2): Conv2d(64, 64, kernel_size=(3, 3), stride=(1, 1), padding=(1, 1), bias=False)\n",
       "        (bn2): BatchNorm2d(64, eps=1e-05, momentum=0.1, affine=True, track_running_stats=True)\n",
       "        (downsample): Padding(32, 64, stride=(2, 2))\n",
       "      )\n",
       "      (1): BasicBlock(\n",
       "        (conv1): Conv2d(64, 64, kernel_size=(3, 3), stride=(1, 1), padding=(1, 1), bias=False)\n",
       "        (bn1): BatchNorm2d(64, eps=1e-05, momentum=0.1, affine=True, track_running_stats=True)\n",
       "        (relu): ReLU(inplace=True)\n",
       "        (conv2): Conv2d(64, 64, kernel_size=(3, 3), stride=(1, 1), padding=(1, 1), bias=False)\n",
       "        (bn2): BatchNorm2d(64, eps=1e-05, momentum=0.1, affine=True, track_running_stats=True)\n",
       "      )\n",
       "      (2): BasicBlock(\n",
       "        (conv1): Conv2d(64, 64, kernel_size=(3, 3), stride=(1, 1), padding=(1, 1), bias=False)\n",
       "        (bn1): BatchNorm2d(64, eps=1e-05, momentum=0.1, affine=True, track_running_stats=True)\n",
       "        (relu): ReLU(inplace=True)\n",
       "        (conv2): Conv2d(64, 64, kernel_size=(3, 3), stride=(1, 1), padding=(1, 1), bias=False)\n",
       "        (bn2): BatchNorm2d(64, eps=1e-05, momentum=0.1, affine=True, track_running_stats=True)\n",
       "      )\n",
       "    )\n",
       "    (6): AdaptiveAvgPool2d(output_size=(1, 1))\n",
       "  )\n",
       "  (projection_head): BarlowTwinsProjectionHead(\n",
       "    (layers): Sequential(\n",
       "      (0): Linear(in_features=64, out_features=2048, bias=True)\n",
       "      (1): BatchNorm1d(2048, eps=1e-05, momentum=0.1, affine=True, track_running_stats=True)\n",
       "      (2): ReLU()\n",
       "      (3): Linear(in_features=2048, out_features=2048, bias=True)\n",
       "      (4): BatchNorm1d(2048, eps=1e-05, momentum=0.1, affine=True, track_running_stats=True)\n",
       "      (5): ReLU()\n",
       "      (6): Linear(in_features=2048, out_features=512, bias=True)\n",
       "    )\n",
       "  )\n",
       ")"
      ]
     },
     "execution_count": 5,
     "metadata": {},
     "output_type": "execute_result"
    }
   ],
   "source": [
    "resnet = resnet20(num_classes=1) #ResNet20\n",
    "backbone = nn.Sequential(*list(resnet.children())[:-1])\n",
    "model = BarlowTwins(backbone)\n",
    "\n",
    "device = \"cuda\" if torch.cuda.is_available() else \"cpu\"\n",
    "model.to(device)"
   ]
  },
  {
   "cell_type": "markdown",
   "metadata": {},
   "source": [
    "## Data loader CIFAR10"
   ]
  },
  {
   "cell_type": "code",
   "execution_count": 6,
   "metadata": {
    "execution": {
     "iopub.execute_input": "2022-03-18T23:07:29.572264Z",
     "iopub.status.busy": "2022-03-18T23:07:29.572013Z",
     "iopub.status.idle": "2022-03-18T23:07:53.695592Z",
     "shell.execute_reply": "2022-03-18T23:07:53.694817Z",
     "shell.execute_reply.started": "2022-03-18T23:07:29.572227Z"
    },
    "id": "hCQdmVYLLXwH"
   },
   "outputs": [
    {
     "name": "stdout",
     "output_type": "stream",
     "text": [
      "Files already downloaded and verified\n",
      "Files already downloaded and verified\n"
     ]
    }
   ],
   "source": [
    "cifar10_train = torchvision.datasets.CIFAR10(data_path, download=True, train=True)\n",
    "cifar10_test = torchvision.datasets.CIFAR10(data_path, download=True, train=False)\n",
    "\n",
    "classes_ids_train = get_classes(cifar10_train) # long!\n",
    "classes_ids_test = get_classes(cifar10_test)\n",
    "dataset = LightlyDataset.from_torch_dataset(Subset(cifar10_train, classes_ids_train['dog']))"
   ]
  },
  {
   "cell_type": "markdown",
   "metadata": {},
   "source": [
    "## Train Model"
   ]
  },
  {
   "cell_type": "code",
   "execution_count": 7,
   "metadata": {
    "execution": {
     "iopub.execute_input": "2022-03-18T23:07:29.572264Z",
     "iopub.status.busy": "2022-03-18T23:07:29.572013Z",
     "iopub.status.idle": "2022-03-18T23:07:53.695592Z",
     "shell.execute_reply": "2022-03-18T23:07:53.694817Z",
     "shell.execute_reply.started": "2022-03-18T23:07:29.572227Z"
    },
    "id": "hCQdmVYLLXwH"
   },
   "outputs": [],
   "source": [
    "from lightly.loss import BarlowTwinsLoss\n",
    "\n",
    "dataloader = torch.utils.data.DataLoader(\n",
    "    dataset,\n",
    "    batch_size=BATCH_SIZE,\n",
    "    collate_fn=custom_collate_fn,\n",
    "    shuffle=True,\n",
    "    drop_last=True,\n",
    "    num_workers=2,\n",
    ")\n",
    "\n",
    "criterion = BarlowTwinsLoss()\n",
    "optimizer = torch.optim.SGD(model.parameters(), momentum=0.9, lr=0.06)"
   ]
  },
  {
   "cell_type": "code",
   "execution_count": 8,
   "metadata": {
    "execution": {
     "iopub.execute_input": "2022-03-18T23:17:37.02023Z",
     "iopub.status.busy": "2022-03-18T23:17:37.019968Z",
     "iopub.status.idle": "2022-03-18T23:17:37.026546Z",
     "shell.execute_reply": "2022-03-18T23:17:37.025371Z",
     "shell.execute_reply.started": "2022-03-18T23:17:37.020201Z"
    }
   },
   "outputs": [],
   "source": [
    "def interactive_plot(x_range, avg_loss):\n",
    "    fig, ax = plt.subplots(figsize=(12, 6))\n",
    "    ax.set_xlabel('Epoch')\n",
    "    ax.set_ylabel('Avg loss')#, #color=color)\n",
    "    ax.plot(x_range, avg_loss, 'r',  ls = '--')\n",
    "    ax.tick_params(axis='y')#, labelcolor=color)\n",
    "    ax.grid()\n",
    "    plt.show()"
   ]
  },
  {
   "cell_type": "code",
   "execution_count": 9,
   "metadata": {
    "execution": {
     "iopub.execute_input": "2022-03-18T23:17:38.544679Z",
     "iopub.status.busy": "2022-03-18T23:17:38.543978Z"
    },
    "id": "UZQo_gWWhfOV"
   },
   "outputs": [
    {
     "data": {
      "image/png": "[encoded data removed]",
      "text/plain": [
       "<Figure size 864x432 with 1 Axes>"
      ]
     },
     "metadata": {
      "needs_background": "light"
     },
     "output_type": "display_data"
    }
   ],
   "source": [
    "from IPython import display\n",
    "print(\"Starting Training\")\n",
    "epochs = range(N_EPOCHES)\n",
    "avg_losses = []\n",
    "\n",
    "for epoch in epochs:\n",
    "    total_loss = 0\n",
    "    for (x0, x1), _, _ in dataloader:\n",
    "        x0 = x0.to(device)\n",
    "        x1 = x1.to(device)\n",
    "        z0 = model(x0)\n",
    "        z1 = model(x1)\n",
    "        loss = criterion(z0, z1)\n",
    "        total_loss += loss.detach()\n",
    "        loss.backward()\n",
    "        optimizer.step()\n",
    "        optimizer.zero_grad()\n",
    "        \n",
    "    avg_loss = total_loss / len(dataloader)\n",
    "    avg_losses.append(avg_loss.cpu().detach())\n",
    "    print(f\"epoch: {epoch: > 2}, loss: {avg_loss:.5f}\")\n",
    "    display.clear_output(wait=True)\n",
    "    interactive_plot(np.arange(epoch+1), avg_losses)"
   ]
  },
  {
   "cell_type": "markdown",
   "metadata": {},
   "source": [
    "## Save model weights"
   ]
  },
  {
   "cell_type": "code",
   "execution_count": 15,
   "metadata": {},
   "outputs": [],
   "source": [
    "torch.save(model.state_dict(), '../weights/weights_barlow_twins')"
   ]
  },
  {
   "cell_type": "markdown",
   "metadata": {
    "id": "sZO1gHTCMM4d"
   },
   "source": [
    "# 2. Embeddings extraction"
   ]
  },
  {
   "cell_type": "code",
   "execution_count": 11,
   "metadata": {},
   "outputs": [],
   "source": [
    "cifar10_ = torchvision.datasets.CIFAR10(data_path, download=False, train=False)\n",
    "\n",
    "\n",
    "classes_ids_test = get_classes(cifar10_)\n",
    "dataset_trucks = LightlyDataset.from_torch_dataset(Subset(cifar10_, classes_ids_test['truck']))\n",
    "dataset_dogs = LightlyDataset.from_torch_dataset(Subset(cifar10_, classes_ids_test['dog']))\n",
    "\n",
    "dataloader_train_dogs = torch.utils.data.DataLoader(\n",
    "    dataset_dogs,\n",
    "    batch_size=BATCH_SIZE,\n",
    "    shuffle=True,\n",
    "    collate_fn=custom_collate_fn,\n",
    "    drop_last=True)\n",
    "\n",
    "dataloader_train_trucks = torch.utils.data.DataLoader(\n",
    "    dataset_trucks,\n",
    "    batch_size=BATCH_SIZE,\n",
    "    shuffle=True,\n",
    "    collate_fn=custom_collate_fn,\n",
    "    drop_last=True)"
   ]
  },
  {
   "cell_type": "code",
   "execution_count": 12,
   "metadata": {},
   "outputs": [],
   "source": [
    "from utils import generate_embeddings\n",
    "\n",
    "model.eval()\n",
    "\n",
    "# generate embeddings for trucks/dog\n",
    "embeddings_dog, filenames_dog = generate_embeddings(model, dataloader_train_dogs, device)\n",
    "embeddings_trucks, filenames_trucks = generate_embeddings(model, dataloader_train_trucks, device)"
   ]
  },
  {
   "cell_type": "markdown",
   "metadata": {},
   "source": [
    "# 3. Calculate Hausdorff distance between poin clouds"
   ]
  },
  {
   "cell_type": "code",
   "execution_count": 14,
   "metadata": {},
   "outputs": [
    {
     "name": "stdout",
     "output_type": "stream",
     "text": [
      "Hausdorff Dist: 0.445\n"
     ]
    }
   ],
   "source": [
    "from scipy.spatial.distance import directed_hausdorff\n",
    "\n",
    "hausdorff_dist = directed_hausdorff(embeddings_dog, embeddings_trucks)[0]\n",
    "\n",
    "print(f'Hausdorff Dist: {hausdorff_dist:.3f}')"
   ]
  }
 ],
 "metadata": {
  "kernelspec": {
   "display_name": "Python 3",
   "language": "python",
   "name": "python3"
  },
  "language_info": {
   "codemirror_mode": {
    "name": "ipython",
    "version": 3
   },
   "file_extension": ".py",
   "mimetype": "text/x-python",
   "name": "python",
   "nbconvert_exporter": "python",
   "pygments_lexer": "ipython3",
   "version": "3.7.1"
  }
 },
 "nbformat": 4,
 "nbformat_minor": 4
}
