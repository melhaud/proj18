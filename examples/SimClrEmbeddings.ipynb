{
 "cells": [
  {
   "cell_type": "markdown",
   "metadata": {
    "papermill": {
     "duration": 0.02177,
     "end_time": "2022-03-21T00:29:43.359044",
     "exception": false,
     "start_time": "2022-03-21T00:29:43.337274",
     "status": "completed"
    },
    "tags": []
   },
   "source": [
    "\n",
    "\n",
    "# Example: Train SimCLR on CIFAR10\n",
    "\n",
    "In this tutorial, we will train a SimCLR model using lightly. The model,\n",
    "augmentations and training procedure is from \n",
    "`A Simple Framework for Contrastive Learning of Visual Representations <https://arxiv.org/abs/2002.05709>`_.\n",
    "\n",
    "The paper explores a rather simple training procedure for contrastive learning.\n"
   ]
  },
  {
   "cell_type": "code",
   "execution_count": 1,
   "metadata": {},
   "outputs": [
    {
     "name": "stdout",
     "output_type": "stream",
     "text": [
      "Wed Mar 23 00:26:40 2022       \r\n",
      "+-----------------------------------------------------------------------------+\r\n",
      "| NVIDIA-SMI 460.73.01    Driver Version: 460.73.01    CUDA Version: 11.2     |\r\n",
      "|-------------------------------+----------------------+----------------------+\r\n",
      "| GPU  Name        Persistence-M| Bus-Id        Disp.A | Volatile Uncorr. ECC |\r\n",
      "| Fan  Temp  Perf  Pwr:Usage/Cap|         Memory-Usage | GPU-Util  Compute M. |\r\n",
      "|                               |                      |               MIG M. |\r\n",
      "|===============================+======================+======================|\r\n",
      "|   0  Tesla M60           Off  | 00000000:3D:00.0 Off |                  Off |\r\n",
      "| N/A   29C    P0    37W / 150W |   1175MiB /  8129MiB |      0%      Default |\r\n",
      "|                               |                      |                  N/A |\r\n",
      "+-------------------------------+----------------------+----------------------+\r\n",
      "                                                                               \r\n",
      "+-----------------------------------------------------------------------------+\r\n",
      "| Processes:                                                                  |\r\n",
      "|  GPU   GI   CI        PID   Type   Process name                  GPU Memory |\r\n",
      "|        ID   ID                                                   Usage      |\r\n",
      "|=============================================================================|\r\n",
      "+-----------------------------------------------------------------------------+\r\n"
     ]
    }
   ],
   "source": [
    "!nvidia-smi"
   ]
  },
  {
   "cell_type": "markdown",
   "metadata": {
    "papermill": {
     "duration": 0.020242,
     "end_time": "2022-03-21T00:29:43.401855",
     "exception": false,
     "start_time": "2022-03-21T00:29:43.381613",
     "status": "completed"
    },
    "tags": []
   },
   "source": [
    "## Imports\n",
    "\n",
    "Import the Python frameworks we need for this tutorial.\n",
    "\n"
   ]
  },
  {
   "cell_type": "code",
   "execution_count": 2,
   "metadata": {
    "execution": {
     "iopub.execute_input": "2022-03-21T00:29:56.319538Z",
     "iopub.status.busy": "2022-03-21T00:29:56.318656Z",
     "iopub.status.idle": "2022-03-21T00:30:02.385507Z",
     "shell.execute_reply": "2022-03-21T00:30:02.386302Z",
     "shell.execute_reply.started": "2022-03-20T23:58:00.849928Z"
    },
    "papermill": {
     "duration": 6.108637,
     "end_time": "2022-03-21T00:30:02.386483",
     "exception": false,
     "start_time": "2022-03-21T00:29:56.277846",
     "status": "completed"
    },
    "tags": []
   },
   "outputs": [],
   "source": [
    "import torch\n",
    "import torch.nn as nn\n",
    "import torchvision\n",
    "import pytorch_lightning as pl\n",
    "import lightly\n",
    "\n",
    "from lightly.data import LightlyDataset\n",
    "from torchvision.datasets import CIFAR10\n",
    "from torch.utils.data import Subset\n",
    "import sys\n",
    "\n",
    "\n",
    "sys.path.append('../src')\n",
    "from utils import get_classes, generate_embeddings, custom_collate_fn\n",
    "from my_resnet import resnet20\n",
    "%matplotlib inline"
   ]
  },
  {
   "cell_type": "markdown",
   "metadata": {
    "papermill": {
     "duration": 0.02944,
     "end_time": "2022-03-21T00:30:02.445604",
     "exception": false,
     "start_time": "2022-03-21T00:30:02.416164",
     "status": "completed"
    },
    "tags": []
   },
   "source": [
    "## Configuration\n",
    "\n",
    "We set some configuration parameters for our experiment.\n",
    "Feel free to change them and analyze the effect.\n",
    "\n"
   ]
  },
  {
   "cell_type": "code",
   "execution_count": 3,
   "metadata": {
    "execution": {
     "iopub.execute_input": "2022-03-21T00:30:02.511524Z",
     "iopub.status.busy": "2022-03-21T00:30:02.510854Z",
     "iopub.status.idle": "2022-03-21T00:30:02.519106Z",
     "shell.execute_reply": "2022-03-21T00:30:02.519598Z",
     "shell.execute_reply.started": "2022-03-20T23:58:04.306834Z"
    },
    "papermill": {
     "duration": 0.044385,
     "end_time": "2022-03-21T00:30:02.519766",
     "exception": false,
     "start_time": "2022-03-21T00:30:02.475381",
     "status": "completed"
    },
    "tags": []
   },
   "outputs": [
    {
     "name": "stderr",
     "output_type": "stream",
     "text": [
      "Global seed set to 1\n"
     ]
    },
    {
     "data": {
      "text/plain": [
       "1"
      ]
     },
     "execution_count": 3,
     "metadata": {},
     "output_type": "execute_result"
    }
   ],
   "source": [
    "num_workers = 2\n",
    "batch_size = 128\n",
    "seed = 1\n",
    "\n",
    "max_epochs = 150\n",
    "input_size = 32 # image height, assume its always square\n",
    "\n",
    "# Let's set the seed for our experiments\n",
    "data_path = \"../data/cifar10\"\n",
    "NORMAL_CLASS = 'dog'\n",
    "\n",
    "\n",
    "pl.seed_everything(seed)"
   ]
  },
  {
   "cell_type": "markdown",
   "metadata": {
    "papermill": {
     "duration": 0.029471,
     "end_time": "2022-03-21T00:30:02.644733",
     "exception": false,
     "start_time": "2022-03-21T00:30:02.615262",
     "status": "completed"
    },
    "tags": []
   },
   "source": [
    "## Setup data augmentations and loaders\n"
   ]
  },
  {
   "cell_type": "code",
   "execution_count": 4,
   "metadata": {},
   "outputs": [
    {
     "name": "stdout",
     "output_type": "stream",
     "text": [
      "Files already downloaded and verified\n"
     ]
    }
   ],
   "source": [
    "cifar10_train = CIFAR10(data_path, download=True, train=True)\n",
    "cifar10_test = CIFAR10(data_path, download=False, train=False)\n",
    "\n",
    "classes_ids_train = get_classes(cifar10_train) # long!\n",
    "classes_ids_test = get_classes(cifar10_test)"
   ]
  },
  {
   "cell_type": "markdown",
   "metadata": {},
   "source": [
    "`collate_fn` Additional augmentations such as vertical flip or random rotation (90 degrees). \n",
    "By adding these augmentations we learn our model invariance regarding the \n",
    "orientation of the images. E.g. we don't care if a shirt is upside down\n",
    "but more about the strcture which make it."
   ]
  },
  {
   "cell_type": "code",
   "execution_count": 5,
   "metadata": {
    "execution": {
     "iopub.execute_input": "2022-03-21T00:30:02.714254Z",
     "iopub.status.busy": "2022-03-21T00:30:02.713173Z",
     "iopub.status.idle": "2022-03-21T00:30:05.218911Z",
     "shell.execute_reply": "2022-03-21T00:30:05.218084Z",
     "shell.execute_reply.started": "2022-03-20T23:58:04.335518Z"
    },
    "jupyter": {
     "outputs_hidden": false
    },
    "papermill": {
     "duration": 2.54491,
     "end_time": "2022-03-21T00:30:05.219039",
     "exception": false,
     "start_time": "2022-03-21T00:30:02.674129",
     "status": "completed"
    },
    "tags": []
   },
   "outputs": [],
   "source": [
    "dataset_train = LightlyDataset.from_torch_dataset(Subset(cifar10_train, classes_ids_train[NORMAL_CLASS]))\n",
    "dataset_test = LightlyDataset.from_torch_dataset(Subset(cifar10_train, classes_ids_train[NORMAL_CLASS]))\n",
    "\n",
    "dataloader_train = torch.utils.data.DataLoader(dataset_train,\n",
    "    batch_size=batch_size, shuffle=True, collate_fn=custom_collate_fn, drop_last=True, num_workers=num_workers)\n",
    "\n",
    "dataloader_test = torch.utils.data.DataLoader(dataset_test,\n",
    "                                              batch_size=batch_size, shuffle=False, drop_last=False, collate_fn=custom_collate_fn, num_workers=num_workers)"
   ]
  },
  {
   "cell_type": "markdown",
   "metadata": {
    "papermill": {
     "duration": 0.02912,
     "end_time": "2022-03-21T00:30:05.362705",
     "exception": false,
     "start_time": "2022-03-21T00:30:05.333585",
     "status": "completed"
    },
    "tags": []
   },
   "source": [
    "# 1. Create the SimCLR Model\n",
    "Now we create the SimCLR model. We implement it as a PyTorch Lightning Module\n",
    "and use custom ResNet-20 backbone provided by Nikita Balabin. Lightly provides implementations\n",
    "of the SimCLR projection head and loss function in the `SimCLRProjectionHead`\n",
    "and `NTXentLoss` classes. We can simply import them and combine the building\n",
    "blocks in the module. We will import constructed model from our `src`.\n",
    "\n"
   ]
  },
  {
   "cell_type": "code",
   "execution_count": 6,
   "metadata": {},
   "outputs": [],
   "source": [
    "from simclr_model import SimCLRModel"
   ]
  },
  {
   "cell_type": "markdown",
   "metadata": {
    "papermill": {
     "duration": 0.030096,
     "end_time": "2022-03-21T00:30:05.493609",
     "exception": false,
     "start_time": "2022-03-21T00:30:05.463513",
     "status": "completed"
    },
    "tags": []
   },
   "source": [
    "We first check if a GPU is available and then train the module\n",
    "using the PyTorch Lightning Trainer.\n",
    "\n"
   ]
  },
  {
   "cell_type": "code",
   "execution_count": 7,
   "metadata": {
    "execution": {
     "iopub.execute_input": "2022-03-21T00:30:05.597452Z",
     "iopub.status.busy": "2022-03-21T00:30:05.594569Z",
     "iopub.status.idle": "2022-03-21T00:56:04.731351Z",
     "shell.execute_reply": "2022-03-21T00:56:04.730889Z",
     "shell.execute_reply.started": "2022-03-20T23:58:05.796489Z"
    },
    "jupyter": {
     "outputs_hidden": false
    },
    "papermill": {
     "duration": 1559.208489,
     "end_time": "2022-03-21T00:56:04.731487",
     "exception": false,
     "start_time": "2022-03-21T00:30:05.522998",
     "status": "completed"
    },
    "scrolled": false,
    "tags": []
   },
   "outputs": [
    {
     "name": "stderr",
     "output_type": "stream",
     "text": [
      "/trinity/home/d.volkov/.local/lib/python3.7/site-packages/pytorch_lightning/trainer/connectors/callback_connector.py:91: LightningDeprecationWarning: Setting `Trainer(progress_bar_refresh_rate=10)` is deprecated in v1.5 and will be removed in v1.7. Please pass `pytorch_lightning.callbacks.progress.TQDMProgressBar` with `refresh_rate` directly to the Trainer's `callbacks` argument instead. Or, to disable the progress bar pass `enable_progress_bar = False` to the Trainer.\n",
      "  f\"Setting `Trainer(progress_bar_refresh_rate={progress_bar_refresh_rate})` is deprecated in v1.5 and\"\n",
      "GPU available: True, used: True\n",
      "TPU available: False, using: 0 TPU cores\n",
      "IPU available: False, using: 0 IPUs\n",
      "LOCAL_RANK: 0 - CUDA_VISIBLE_DEVICES: [0]\n",
      "Missing logger folder: /trinity/home/d.volkov/proj18/examples/lightning_logs\n",
      "\n",
      "  | Name            | Type                 | Params\n",
      "---------------------------------------------------------\n",
      "0 | backbone        | Sequential           | 269 K \n",
      "1 | projection_head | SimCLRProjectionHead | 6.2 K \n",
      "2 | criterion       | NTXentLoss           | 0     \n",
      "---------------------------------------------------------\n",
      "275 K     Trainable params\n",
      "0         Non-trainable params\n",
      "275 K     Total params\n",
      "1.101     Total estimated model params size (MB)\n",
      "/trinity/home/d.volkov/.local/lib/python3.7/site-packages/pytorch_lightning/trainer/data_loading.py:133: UserWarning: The dataloader, train_dataloader, does not have many workers which may be a bottleneck. Consider increasing the value of the `num_workers` argument` (try 16 which is the number of cpus on this machine) in the `DataLoader` init to improve performance.\n",
      "  f\"The dataloader, {name}, does not have many workers which may be a bottleneck.\"\n",
      "/trinity/home/d.volkov/.local/lib/python3.7/site-packages/pytorch_lightning/trainer/data_loading.py:433: UserWarning: The number of training samples (39) is smaller than the logging interval Trainer(log_every_n_steps=50). Set a lower value for log_every_n_steps if you want to see logs for the training epoch.\n",
      "  f\"The number of training samples ({self.num_training_batches}) is smaller than the logging interval\"\n"
     ]
    },
    {
     "data": {
      "application/vnd.jupyter.widget-view+json": {
       "model_id": "806a5339e7684859a9028228d8b4f864",
       "version_major": 2,
       "version_minor": 0
      },
      "text/plain": [
       "HBox(children=(HTML(value='Training'), FloatProgress(value=1.0, bar_style='info', layout=Layout(flex='2'), max…"
      ]
     },
     "metadata": {},
     "output_type": "display_data"
    },
    {
     "name": "stdout",
     "output_type": "stream",
     "text": [
      "\n"
     ]
    }
   ],
   "source": [
    "gpus = 1 if torch.cuda.is_available() else 0\n",
    "device = \"cuda\" if torch.cuda.is_available() else \"cpu\"\n",
    "\n",
    "resnet_backbone = resnet20(num_classes=1)\n",
    "model = SimCLRModel(resnet_backbone, img_size = input_size)\n",
    "trainer = pl.Trainer(\n",
    "    max_epochs=50, gpus=gpus, progress_bar_refresh_rate=10\n",
    ")\n",
    "trainer.fit(model, dataloader_train)"
   ]
  },
  {
   "cell_type": "code",
   "execution_count": 17,
   "metadata": {},
   "outputs": [],
   "source": [
    "torch.save(model.state_dict(), '../weights/weights_simclr')"
   ]
  },
  {
   "cell_type": "markdown",
   "metadata": {},
   "source": [
    "# 2. Embeddings extraction\n",
    "Next we create a helper function to generate embeddings\n",
    "from our test images using the model we just trained.\n",
    "Note that only the backbone is needed to generate embeddings,\n",
    "the projection head is only required for the training.\n",
    "Make sure to put the model into eval mode for this part!\n",
    "\n"
   ]
  },
  {
   "cell_type": "code",
   "execution_count": 13,
   "metadata": {},
   "outputs": [],
   "source": [
    "model.to(device)\n",
    "model.eval()\n",
    "embeddings_test, filenames_test = generate_embeddings(model, dataloader_test, device)\n",
    "embeddings_train, filenames_train = generate_embeddings(model, dataloader_train, device)"
   ]
  },
  {
   "cell_type": "code",
   "execution_count": 14,
   "metadata": {
    "scrolled": true
   },
   "outputs": [
    {
     "name": "stdout",
     "output_type": "stream",
     "text": [
      "Shape of TEST embeddings (5000, 64)\n",
      "Shape of TRAIN embeddings (4992, 64)\n"
     ]
    }
   ],
   "source": [
    "print(f'Shape of TEST embeddings {embeddings_test.shape}')\n",
    "print(f'Shape of TRAIN embeddings {embeddings_train.shape}')"
   ]
  },
  {
   "cell_type": "markdown",
   "metadata": {},
   "source": [
    "# 3. Calculate Hausdorff distance between poin clouds"
   ]
  },
  {
   "cell_type": "code",
   "execution_count": 15,
   "metadata": {},
   "outputs": [
    {
     "name": "stdout",
     "output_type": "stream",
     "text": [
      "Hausdorff Dist: 0.371\n"
     ]
    }
   ],
   "source": [
    "from scipy.spatial.distance import directed_hausdorff\n",
    "\n",
    "hausdorff_dist = directed_hausdorff(embeddings_train, embeddings_test)[0]\n",
    "\n",
    "print(f'Hausdorff Dist: {hausdorff_dist:.3f}')"
   ]
  }
 ],
 "metadata": {
  "kernelspec": {
   "display_name": "Python 3",
   "language": "python",
   "name": "python3"
  },
  "language_info": {
   "codemirror_mode": {
    "name": "ipython",
    "version": 3
   },
   "file_extension": ".py",
   "mimetype": "text/x-python",
   "name": "python",
   "nbconvert_exporter": "python",
   "pygments_lexer": "ipython3",
   "version": "3.7.1"
  },
  "papermill": {
   "default_parameters": {},
   "duration": 1603.040056,
   "end_time": "2022-03-21T00:56:18.191191",
   "environment_variables": {},
   "exception": true,
   "input_path": "__notebook__.ipynb",
   "output_path": "__notebook__.ipynb",
   "parameters": {},
   "start_time": "2022-03-21T00:29:35.151135",
   "version": "2.3.3"
  },
  "widgets": {
   "application/vnd.jupyter.widget-state+json": {
    "state": {
     "0a30cb39131b4147a1090fe57e8e32ce": {
      "model_module": "@jupyter-widgets/controls",
      "model_module_version": "1.5.0",
      "model_name": "DescriptionStyleModel",
      "state": {
       "_model_module": "@jupyter-widgets/controls",
       "_model_module_version": "1.5.0",
       "_model_name": "DescriptionStyleModel",
       "_view_count": null,
       "_view_module": "@jupyter-widgets/base",
       "_view_module_version": "1.2.0",
       "_view_name": "StyleView",
       "description_width": ""
      }
     },
     "0a8f386a795e43449751a29305588685": {
      "model_module": "@jupyter-widgets/base",
      "model_module_version": "1.2.0",
      "model_name": "LayoutModel",
      "state": {
       "_model_module": "@jupyter-widgets/base",
       "_model_module_version": "1.2.0",
       "_model_name": "LayoutModel",
       "_view_count": null,
       "_view_module": "@jupyter-widgets/base",
       "_view_module_version": "1.2.0",
       "_view_name": "LayoutView",
       "align_content": null,
       "align_items": null,
       "align_self": null,
       "border": null,
       "bottom": null,
       "display": null,
       "flex": null,
       "flex_flow": null,
       "grid_area": null,
       "grid_auto_columns": null,
       "grid_auto_flow": null,
       "grid_auto_rows": null,
       "grid_column": null,
       "grid_gap": null,
       "grid_row": null,
       "grid_template_areas": null,
       "grid_template_columns": null,
       "grid_template_rows": null,
       "height": null,
       "justify_content": null,
       "justify_items": null,
       "left": null,
       "margin": null,
       "max_height": null,
       "max_width": null,
       "min_height": null,
       "min_width": null,
       "object_fit": null,
       "object_position": null,
       "order": null,
       "overflow": null,
       "overflow_x": null,
       "overflow_y": null,
       "padding": null,
       "right": null,
       "top": null,
       "visibility": null,
       "width": null
      }
     },
     "39f3609ea5c54217800618c60998aae2": {
      "model_module": "@jupyter-widgets/controls",
      "model_module_version": "1.5.0",
      "model_name": "FloatProgressModel",
      "state": {
       "_dom_classes": [],
       "_model_module": "@jupyter-widgets/controls",
       "_model_module_version": "1.5.0",
       "_model_name": "FloatProgressModel",
       "_view_count": null,
       "_view_module": "@jupyter-widgets/controls",
       "_view_module_version": "1.5.0",
       "_view_name": "ProgressView",
       "bar_style": "success",
       "description": "",
       "description_tooltip": null,
       "layout": "IPY_MODEL_fc8b65853b604ea5a8b4967fb063b99a",
       "max": 39,
       "min": 0,
       "orientation": "horizontal",
       "style": "IPY_MODEL_94cf049f419b49acbd9c8c3b54f8bbac",
       "value": 39
      }
     },
     "3c248851636e460e9aeab4498f5cbbea": {
      "model_module": "@jupyter-widgets/base",
      "model_module_version": "1.2.0",
      "model_name": "LayoutModel",
      "state": {
       "_model_module": "@jupyter-widgets/base",
       "_model_module_version": "1.2.0",
       "_model_name": "LayoutModel",
       "_view_count": null,
       "_view_module": "@jupyter-widgets/base",
       "_view_module_version": "1.2.0",
       "_view_name": "LayoutView",
       "align_content": null,
       "align_items": null,
       "align_self": null,
       "border": null,
       "bottom": null,
       "display": "inline-flex",
       "flex": null,
       "flex_flow": "row wrap",
       "grid_area": null,
       "grid_auto_columns": null,
       "grid_auto_flow": null,
       "grid_auto_rows": null,
       "grid_column": null,
       "grid_gap": null,
       "grid_row": null,
       "grid_template_areas": null,
       "grid_template_columns": null,
       "grid_template_rows": null,
       "height": null,
       "justify_content": null,
       "justify_items": null,
       "left": null,
       "margin": null,
       "max_height": null,
       "max_width": null,
       "min_height": null,
       "min_width": null,
       "object_fit": null,
       "object_position": null,
       "order": null,
       "overflow": null,
       "overflow_x": null,
       "overflow_y": null,
       "padding": null,
       "right": null,
       "top": null,
       "visibility": null,
       "width": "100%"
      }
     },
     "64f04d179f3c43f9a169c527e3a9a180": {
      "model_module": "@jupyter-widgets/controls",
      "model_module_version": "1.5.0",
      "model_name": "HTMLModel",
      "state": {
       "_dom_classes": [],
       "_model_module": "@jupyter-widgets/controls",
       "_model_module_version": "1.5.0",
       "_model_name": "HTMLModel",
       "_view_count": null,
       "_view_module": "@jupyter-widgets/controls",
       "_view_module_version": "1.5.0",
       "_view_name": "HTMLView",
       "description": "",
       "description_tooltip": null,
       "layout": "IPY_MODEL_dae91a1d75a245f19f691bb7b69c3208",
       "placeholder": "​",
       "style": "IPY_MODEL_0a30cb39131b4147a1090fe57e8e32ce",
       "value": " 39/39 [00:10&lt;00:00,  3.88it/s, loss=4.4, v_num=0]"
      }
     },
     "94cf049f419b49acbd9c8c3b54f8bbac": {
      "model_module": "@jupyter-widgets/controls",
      "model_module_version": "1.5.0",
      "model_name": "ProgressStyleModel",
      "state": {
       "_model_module": "@jupyter-widgets/controls",
       "_model_module_version": "1.5.0",
       "_model_name": "ProgressStyleModel",
       "_view_count": null,
       "_view_module": "@jupyter-widgets/base",
       "_view_module_version": "1.2.0",
       "_view_name": "StyleView",
       "bar_color": null,
       "description_width": ""
      }
     },
     "9dff211e8d0843089bd63098cbd4e63d": {
      "model_module": "@jupyter-widgets/controls",
      "model_module_version": "1.5.0",
      "model_name": "DescriptionStyleModel",
      "state": {
       "_model_module": "@jupyter-widgets/controls",
       "_model_module_version": "1.5.0",
       "_model_name": "DescriptionStyleModel",
       "_view_count": null,
       "_view_module": "@jupyter-widgets/base",
       "_view_module_version": "1.2.0",
       "_view_name": "StyleView",
       "description_width": ""
      }
     },
     "a41ba504803c42e48b35e7432c1ecc22": {
      "model_module": "@jupyter-widgets/controls",
      "model_module_version": "1.5.0",
      "model_name": "HTMLModel",
      "state": {
       "_dom_classes": [],
       "_model_module": "@jupyter-widgets/controls",
       "_model_module_version": "1.5.0",
       "_model_name": "HTMLModel",
       "_view_count": null,
       "_view_module": "@jupyter-widgets/controls",
       "_view_module_version": "1.5.0",
       "_view_name": "HTMLView",
       "description": "",
       "description_tooltip": null,
       "layout": "IPY_MODEL_0a8f386a795e43449751a29305588685",
       "placeholder": "​",
       "style": "IPY_MODEL_9dff211e8d0843089bd63098cbd4e63d",
       "value": "Epoch 149: 100%"
      }
     },
     "dae91a1d75a245f19f691bb7b69c3208": {
      "model_module": "@jupyter-widgets/base",
      "model_module_version": "1.2.0",
      "model_name": "LayoutModel",
      "state": {
       "_model_module": "@jupyter-widgets/base",
       "_model_module_version": "1.2.0",
       "_model_name": "LayoutModel",
       "_view_count": null,
       "_view_module": "@jupyter-widgets/base",
       "_view_module_version": "1.2.0",
       "_view_name": "LayoutView",
       "align_content": null,
       "align_items": null,
       "align_self": null,
       "border": null,
       "bottom": null,
       "display": null,
       "flex": null,
       "flex_flow": null,
       "grid_area": null,
       "grid_auto_columns": null,
       "grid_auto_flow": null,
       "grid_auto_rows": null,
       "grid_column": null,
       "grid_gap": null,
       "grid_row": null,
       "grid_template_areas": null,
       "grid_template_columns": null,
       "grid_template_rows": null,
       "height": null,
       "justify_content": null,
       "justify_items": null,
       "left": null,
       "margin": null,
       "max_height": null,
       "max_width": null,
       "min_height": null,
       "min_width": null,
       "object_fit": null,
       "object_position": null,
       "order": null,
       "overflow": null,
       "overflow_x": null,
       "overflow_y": null,
       "padding": null,
       "right": null,
       "top": null,
       "visibility": null,
       "width": null
      }
     },
     "ebd4873bdff740cd97f96174eb4f3ddb": {
      "model_module": "@jupyter-widgets/controls",
      "model_module_version": "1.5.0",
      "model_name": "HBoxModel",
      "state": {
       "_dom_classes": [],
       "_model_module": "@jupyter-widgets/controls",
       "_model_module_version": "1.5.0",
       "_model_name": "HBoxModel",
       "_view_count": null,
       "_view_module": "@jupyter-widgets/controls",
       "_view_module_version": "1.5.0",
       "_view_name": "HBoxView",
       "box_style": "",
       "children": [
        "IPY_MODEL_a41ba504803c42e48b35e7432c1ecc22",
        "IPY_MODEL_39f3609ea5c54217800618c60998aae2",
        "IPY_MODEL_64f04d179f3c43f9a169c527e3a9a180"
       ],
       "layout": "IPY_MODEL_3c248851636e460e9aeab4498f5cbbea"
      }
     },
     "fc8b65853b604ea5a8b4967fb063b99a": {
      "model_module": "@jupyter-widgets/base",
      "model_module_version": "1.2.0",
      "model_name": "LayoutModel",
      "state": {
       "_model_module": "@jupyter-widgets/base",
       "_model_module_version": "1.2.0",
       "_model_name": "LayoutModel",
       "_view_count": null,
       "_view_module": "@jupyter-widgets/base",
       "_view_module_version": "1.2.0",
       "_view_name": "LayoutView",
       "align_content": null,
       "align_items": null,
       "align_self": null,
       "border": null,
       "bottom": null,
       "display": null,
       "flex": "2",
       "flex_flow": null,
       "grid_area": null,
       "grid_auto_columns": null,
       "grid_auto_flow": null,
       "grid_auto_rows": null,
       "grid_column": null,
       "grid_gap": null,
       "grid_row": null,
       "grid_template_areas": null,
       "grid_template_columns": null,
       "grid_template_rows": null,
       "height": null,
       "justify_content": null,
       "justify_items": null,
       "left": null,
       "margin": null,
       "max_height": null,
       "max_width": null,
       "min_height": null,
       "min_width": null,
       "object_fit": null,
       "object_position": null,
       "order": null,
       "overflow": null,
       "overflow_x": null,
       "overflow_y": null,
       "padding": null,
       "right": null,
       "top": null,
       "visibility": null,
       "width": null
      }
     }
    },
    "version_major": 2,
    "version_minor": 0
   }
  }
 },
 "nbformat": 4,
 "nbformat_minor": 5
}
